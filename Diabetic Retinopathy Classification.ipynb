{
 "cells": [
  {
   "cell_type": "markdown",
   "id": "542bd17a-6d14-40f5-9be3-b773796b3103",
   "metadata": {},
   "source": [
    "# Data Map"
   ]
  },
  {
   "cell_type": "code",
   "execution_count": 2,
   "id": "a0e92684-c821-45e7-9f66-cc0ea28d2578",
   "metadata": {},
   "outputs": [],
   "source": [
    "from pathlib import Path\n",
    "import os\n",
    "import pandas as pd\n",
    "from glob import glob\n",
    "import cv2\n",
    "import numpy as np\n",
    "from glob import glob\n",
    "from sklearn.model_selection import train_test_split\n",
    "from tensorflow.keras.utils import to_categorical\n",
    "from tensorflow.keras.preprocessing.image import ImageDataGenerator\n",
    "from tensorflow.keras.models import Sequential\n",
    "from tensorflow.keras.layers import Conv2D, MaxPooling2D, Flatten, Dense\n",
    "from tensorflow.keras.optimizers import Adam\n",
    "from PIL import Image"
   ]
  },
  {
   "cell_type": "code",
   "execution_count": 3,
   "id": "09a157cb-d355-4c5c-a54a-d6a215de3dc4",
   "metadata": {},
   "outputs": [],
   "source": [
    "folder_path=r\"/Users/ahmedmaher/Desktop/kaggle_retina/train\"\n",
    "img_paths=glob(folder_path+r\"/*.png\")\n",
    "img_paths\n",
    "csvfilepath=r\"/Users/ahmedmaher/Desktop/kaggle_retina/train.csv\"\n",
    "df = pd.read_csv(csvfilepath)"
   ]
  },
  {
   "cell_type": "code",
   "execution_count": 5,
   "id": "51b57786-421b-4aca-9e0b-87fcad46fe27",
   "metadata": {},
   "outputs": [],
   "source": [
    "IMG_SIZE = 128\n",
    "images = []\n",
    "labels = []\n",
    "for idx, row in df.iterrows():\n",
    "    img_path = os.path.join(folder_path, row[\"id_code\"] + \".png\")\n",
    "    img = cv2.imread(img_path)\n",
    "    if img is not None:\n",
    "        img = cv2.cvtColor(img, cv2.COLOR_BGR2RGB)  \n",
    "        img = cv2.resize(img, (IMG_SIZE, IMG_SIZE))\n",
    "        images.append(img)\n",
    "        labels.append(row[\"diagnosis\"])"
   ]
  },
  {
   "cell_type": "markdown",
   "id": "ec5cdd38-dcde-4295-9cf0-6e1eda245c62",
   "metadata": {},
   "source": [
    "# Normalizing Images"
   ]
  },
  {
   "cell_type": "code",
   "execution_count": 7,
   "id": "51551ba0-5c86-4a35-ad00-3fdc19871c32",
   "metadata": {},
   "outputs": [],
   "source": [
    "images = np.array(images, dtype='float32') / 255.0  \n",
    "labels = np.array(labels)\n",
    "labels_cat = to_categorical(labels, num_classes=5)"
   ]
  },
  {
   "cell_type": "markdown",
   "id": "c2c22d53-6f77-4900-878c-2b9d786dcd42",
   "metadata": {},
   "source": [
    "# Data Splitting"
   ]
  },
  {
   "cell_type": "code",
   "execution_count": 9,
   "id": "ba52a3bb-8fa0-4924-a5ea-df37031d7de7",
   "metadata": {},
   "outputs": [],
   "source": [
    "X_train, X_test, y_train, y_test = train_test_split(\n",
    "    images, labels_cat, test_size=0.2, random_state=42, stratify=labels\n",
    ")"
   ]
  },
  {
   "cell_type": "markdown",
   "id": "175cc6cb-8519-4548-ba39-55a946736677",
   "metadata": {},
   "source": [
    "# Data Balancing"
   ]
  },
  {
   "cell_type": "code",
   "execution_count": 11,
   "id": "02001eb2-1171-43bf-a172-d90591475bc6",
   "metadata": {},
   "outputs": [],
   "source": [
    "datagen = ImageDataGenerator(\n",
    "    rotation_range=20,\n",
    "    zoom_range=0.15,\n",
    "    width_shift_range=0.1,\n",
    "    height_shift_range=0.1,\n",
    "    horizontal_flip=True,\n",
    "    fill_mode=\"nearest\"\n",
    ")\n",
    "datagen.fit(X_train)"
   ]
  },
  {
   "cell_type": "markdown",
   "id": "49231e03-b8e4-428e-bb3b-fd9d341d6f17",
   "metadata": {},
   "source": [
    "# Building the model"
   ]
  },
  {
   "cell_type": "code",
   "execution_count": 13,
   "id": "4a75bf9b-9b0f-4224-855d-607145e20cf1",
   "metadata": {},
   "outputs": [
    {
     "name": "stderr",
     "output_type": "stream",
     "text": [
      "/Users/ahmedmaher/anaconda3/lib/python3.11/site-packages/keras/src/layers/convolutional/base_conv.py:107: UserWarning: Do not pass an `input_shape`/`input_dim` argument to a layer. When using Sequential models, prefer using an `Input(shape)` object as the first layer in the model instead.\n",
      "  super().__init__(activity_regularizer=activity_regularizer, **kwargs)\n"
     ]
    }
   ],
   "source": [
    "model = Sequential([\n",
    "    Conv2D(32, (3, 3), activation='relu', input_shape=(IMG_SIZE, IMG_SIZE, 3)), \n",
    "    MaxPooling2D(pool_size=(2, 2)),\n",
    "    \n",
    "    Conv2D(64, (3, 3), activation='relu'),\n",
    "    MaxPooling2D(pool_size=(2, 2)),\n",
    "    \n",
    "    Conv2D(128, (3, 3), activation='relu'),\n",
    "    MaxPooling2D(pool_size=(2, 2)),\n",
    "    \n",
    "    Flatten(),\n",
    "    Dense(128, activation='relu'),\n",
    "    Dense(5, activation='softmax') \n",
    "])"
   ]
  },
  {
   "cell_type": "code",
   "execution_count": 14,
   "id": "2312da6b-1e0b-433d-9a53-6162742d80d5",
   "metadata": {},
   "outputs": [],
   "source": [
    "model.compile(optimizer=Adam(), loss='categorical_crossentropy', metrics=['accuracy'])"
   ]
  },
  {
   "cell_type": "code",
   "execution_count": 15,
   "id": "02473042-aaa3-4e6a-a514-d8daa9d803ca",
   "metadata": {},
   "outputs": [
    {
     "name": "stdout",
     "output_type": "stream",
     "text": [
      "Epoch 1/64\n"
     ]
    },
    {
     "name": "stderr",
     "output_type": "stream",
     "text": [
      "/Users/ahmedmaher/anaconda3/lib/python3.11/site-packages/keras/src/trainers/data_adapters/py_dataset_adapter.py:121: UserWarning: Your `PyDataset` class should call `super().__init__(**kwargs)` in its constructor. `**kwargs` can include `workers`, `use_multiprocessing`, `max_queue_size`. Do not pass these arguments to `fit()`, as they will be ignored.\n",
      "  self._warn_if_super_not_called()\n"
     ]
    },
    {
     "name": "stdout",
     "output_type": "stream",
     "text": [
      "\u001b[1m55/55\u001b[0m \u001b[32m━━━━━━━━━━━━━━━━━━━━\u001b[0m\u001b[37m\u001b[0m \u001b[1m6s\u001b[0m 99ms/step - accuracy: 0.5110 - loss: 1.2331 - val_accuracy: 0.6682 - val_loss: 0.9383\n",
      "Epoch 2/64\n",
      "\u001b[1m55/55\u001b[0m \u001b[32m━━━━━━━━━━━━━━━━━━━━\u001b[0m\u001b[37m\u001b[0m \u001b[1m5s\u001b[0m 96ms/step - accuracy: 0.6554 - loss: 0.9488 - val_accuracy: 0.6886 - val_loss: 0.9377\n",
      "Epoch 3/64\n",
      "\u001b[1m55/55\u001b[0m \u001b[32m━━━━━━━━━━━━━━━━━━━━\u001b[0m\u001b[37m\u001b[0m \u001b[1m5s\u001b[0m 95ms/step - accuracy: 0.6669 - loss: 0.8899 - val_accuracy: 0.6795 - val_loss: 0.8494\n",
      "Epoch 4/64\n",
      "\u001b[1m55/55\u001b[0m \u001b[32m━━━━━━━━━━━━━━━━━━━━\u001b[0m\u001b[37m\u001b[0m \u001b[1m5s\u001b[0m 96ms/step - accuracy: 0.6834 - loss: 0.8482 - val_accuracy: 0.7068 - val_loss: 0.8526\n",
      "Epoch 5/64\n",
      "\u001b[1m55/55\u001b[0m \u001b[32m━━━━━━━━━━━━━━━━━━━━\u001b[0m\u001b[37m\u001b[0m \u001b[1m5s\u001b[0m 96ms/step - accuracy: 0.7209 - loss: 0.7934 - val_accuracy: 0.7068 - val_loss: 0.8332\n",
      "Epoch 6/64\n",
      "\u001b[1m55/55\u001b[0m \u001b[32m━━━━━━━━━━━━━━━━━━━━\u001b[0m\u001b[37m\u001b[0m \u001b[1m5s\u001b[0m 97ms/step - accuracy: 0.6988 - loss: 0.8231 - val_accuracy: 0.7159 - val_loss: 0.8165\n",
      "Epoch 7/64\n",
      "\u001b[1m55/55\u001b[0m \u001b[32m━━━━━━━━━━━━━━━━━━━━\u001b[0m\u001b[37m\u001b[0m \u001b[1m5s\u001b[0m 98ms/step - accuracy: 0.7012 - loss: 0.8069 - val_accuracy: 0.7091 - val_loss: 0.8534\n",
      "Epoch 8/64\n",
      "\u001b[1m55/55\u001b[0m \u001b[32m━━━━━━━━━━━━━━━━━━━━\u001b[0m\u001b[37m\u001b[0m \u001b[1m6s\u001b[0m 100ms/step - accuracy: 0.7125 - loss: 0.7959 - val_accuracy: 0.7205 - val_loss: 0.8194\n",
      "Epoch 9/64\n",
      "\u001b[1m55/55\u001b[0m \u001b[32m━━━━━━━━━━━━━━━━━━━━\u001b[0m\u001b[37m\u001b[0m \u001b[1m5s\u001b[0m 99ms/step - accuracy: 0.7101 - loss: 0.7839 - val_accuracy: 0.7318 - val_loss: 0.8474\n",
      "Epoch 10/64\n",
      "\u001b[1m55/55\u001b[0m \u001b[32m━━━━━━━━━━━━━━━━━━━━\u001b[0m\u001b[37m\u001b[0m \u001b[1m6s\u001b[0m 103ms/step - accuracy: 0.7156 - loss: 0.8254 - val_accuracy: 0.7318 - val_loss: 0.8056\n",
      "Epoch 11/64\n",
      "\u001b[1m55/55\u001b[0m \u001b[32m━━━━━━━━━━━━━━━━━━━━\u001b[0m\u001b[37m\u001b[0m \u001b[1m6s\u001b[0m 104ms/step - accuracy: 0.7190 - loss: 0.7722 - val_accuracy: 0.7091 - val_loss: 0.8342\n",
      "Epoch 12/64\n",
      "\u001b[1m55/55\u001b[0m \u001b[32m━━━━━━━━━━━━━━━━━━━━\u001b[0m\u001b[37m\u001b[0m \u001b[1m6s\u001b[0m 101ms/step - accuracy: 0.7046 - loss: 0.8012 - val_accuracy: 0.7136 - val_loss: 0.8373\n",
      "Epoch 13/64\n",
      "\u001b[1m55/55\u001b[0m \u001b[32m━━━━━━━━━━━━━━━━━━━━\u001b[0m\u001b[37m\u001b[0m \u001b[1m6s\u001b[0m 99ms/step - accuracy: 0.7232 - loss: 0.7774 - val_accuracy: 0.7250 - val_loss: 0.8172\n",
      "Epoch 14/64\n",
      "\u001b[1m55/55\u001b[0m \u001b[32m━━━━━━━━━━━━━━━━━━━━\u001b[0m\u001b[37m\u001b[0m \u001b[1m6s\u001b[0m 100ms/step - accuracy: 0.7375 - loss: 0.7341 - val_accuracy: 0.6932 - val_loss: 0.8363\n",
      "Epoch 15/64\n",
      "\u001b[1m55/55\u001b[0m \u001b[32m━━━━━━━━━━━━━━━━━━━━\u001b[0m\u001b[37m\u001b[0m \u001b[1m6s\u001b[0m 100ms/step - accuracy: 0.7109 - loss: 0.7967 - val_accuracy: 0.7182 - val_loss: 0.8330\n",
      "Epoch 16/64\n",
      "\u001b[1m55/55\u001b[0m \u001b[32m━━━━━━━━━━━━━━━━━━━━\u001b[0m\u001b[37m\u001b[0m \u001b[1m5s\u001b[0m 98ms/step - accuracy: 0.7247 - loss: 0.7635 - val_accuracy: 0.7273 - val_loss: 0.7851\n",
      "Epoch 17/64\n",
      "\u001b[1m55/55\u001b[0m \u001b[32m━━━━━━━━━━━━━━━━━━━━\u001b[0m\u001b[37m\u001b[0m \u001b[1m5s\u001b[0m 99ms/step - accuracy: 0.7170 - loss: 0.7579 - val_accuracy: 0.7182 - val_loss: 0.8136\n",
      "Epoch 18/64\n",
      "\u001b[1m55/55\u001b[0m \u001b[32m━━━━━━━━━━━━━━━━━━━━\u001b[0m\u001b[37m\u001b[0m \u001b[1m5s\u001b[0m 98ms/step - accuracy: 0.7250 - loss: 0.7410 - val_accuracy: 0.7273 - val_loss: 0.8240\n",
      "Epoch 19/64\n",
      "\u001b[1m55/55\u001b[0m \u001b[32m━━━━━━━━━━━━━━━━━━━━\u001b[0m\u001b[37m\u001b[0m \u001b[1m5s\u001b[0m 98ms/step - accuracy: 0.7324 - loss: 0.7049 - val_accuracy: 0.7250 - val_loss: 0.7798\n",
      "Epoch 20/64\n",
      "\u001b[1m55/55\u001b[0m \u001b[32m━━━━━━━━━━━━━━━━━━━━\u001b[0m\u001b[37m\u001b[0m \u001b[1m5s\u001b[0m 97ms/step - accuracy: 0.7189 - loss: 0.7457 - val_accuracy: 0.7273 - val_loss: 0.8000\n",
      "Epoch 21/64\n",
      "\u001b[1m55/55\u001b[0m \u001b[32m━━━━━━━━━━━━━━━━━━━━\u001b[0m\u001b[37m\u001b[0m \u001b[1m6s\u001b[0m 99ms/step - accuracy: 0.7316 - loss: 0.7109 - val_accuracy: 0.7227 - val_loss: 0.8074\n",
      "Epoch 22/64\n",
      "\u001b[1m55/55\u001b[0m \u001b[32m━━━━━━━━━━━━━━━━━━━━\u001b[0m\u001b[37m\u001b[0m \u001b[1m5s\u001b[0m 98ms/step - accuracy: 0.7057 - loss: 0.7584 - val_accuracy: 0.7386 - val_loss: 0.7841\n",
      "Epoch 23/64\n",
      "\u001b[1m55/55\u001b[0m \u001b[32m━━━━━━━━━━━━━━━━━━━━\u001b[0m\u001b[37m\u001b[0m \u001b[1m5s\u001b[0m 99ms/step - accuracy: 0.7228 - loss: 0.7573 - val_accuracy: 0.7250 - val_loss: 0.8807\n",
      "Epoch 24/64\n",
      "\u001b[1m55/55\u001b[0m \u001b[32m━━━━━━━━━━━━━━━━━━━━\u001b[0m\u001b[37m\u001b[0m \u001b[1m5s\u001b[0m 98ms/step - accuracy: 0.7453 - loss: 0.7194 - val_accuracy: 0.7318 - val_loss: 0.8153\n",
      "Epoch 25/64\n",
      "\u001b[1m55/55\u001b[0m \u001b[32m━━━━━━━━━━━━━━━━━━━━\u001b[0m\u001b[37m\u001b[0m \u001b[1m5s\u001b[0m 99ms/step - accuracy: 0.7415 - loss: 0.7142 - val_accuracy: 0.7341 - val_loss: 0.7957\n",
      "Epoch 26/64\n",
      "\u001b[1m55/55\u001b[0m \u001b[32m━━━━━━━━━━━━━━━━━━━━\u001b[0m\u001b[37m\u001b[0m \u001b[1m6s\u001b[0m 100ms/step - accuracy: 0.7246 - loss: 0.7181 - val_accuracy: 0.7364 - val_loss: 0.7829\n",
      "Epoch 27/64\n",
      "\u001b[1m55/55\u001b[0m \u001b[32m━━━━━━━━━━━━━━━━━━━━\u001b[0m\u001b[37m\u001b[0m \u001b[1m6s\u001b[0m 100ms/step - accuracy: 0.7386 - loss: 0.6920 - val_accuracy: 0.7295 - val_loss: 0.8161\n",
      "Epoch 28/64\n",
      "\u001b[1m55/55\u001b[0m \u001b[32m━━━━━━━━━━━━━━━━━━━━\u001b[0m\u001b[37m\u001b[0m \u001b[1m6s\u001b[0m 100ms/step - accuracy: 0.7500 - loss: 0.6822 - val_accuracy: 0.7318 - val_loss: 0.7823\n",
      "Epoch 29/64\n",
      "\u001b[1m55/55\u001b[0m \u001b[32m━━━━━━━━━━━━━━━━━━━━\u001b[0m\u001b[37m\u001b[0m \u001b[1m6s\u001b[0m 102ms/step - accuracy: 0.7335 - loss: 0.6957 - val_accuracy: 0.7295 - val_loss: 0.7894\n",
      "Epoch 30/64\n",
      "\u001b[1m55/55\u001b[0m \u001b[32m━━━━━━━━━━━━━━━━━━━━\u001b[0m\u001b[37m\u001b[0m \u001b[1m6s\u001b[0m 101ms/step - accuracy: 0.7507 - loss: 0.6703 - val_accuracy: 0.7295 - val_loss: 0.8020\n",
      "Epoch 31/64\n",
      "\u001b[1m55/55\u001b[0m \u001b[32m━━━━━━━━━━━━━━━━━━━━\u001b[0m\u001b[37m\u001b[0m \u001b[1m6s\u001b[0m 104ms/step - accuracy: 0.7387 - loss: 0.6751 - val_accuracy: 0.7182 - val_loss: 0.8265\n",
      "Epoch 32/64\n",
      "\u001b[1m55/55\u001b[0m \u001b[32m━━━━━━━━━━━━━━━━━━━━\u001b[0m\u001b[37m\u001b[0m \u001b[1m6s\u001b[0m 105ms/step - accuracy: 0.7569 - loss: 0.6641 - val_accuracy: 0.7227 - val_loss: 0.7982\n",
      "Epoch 33/64\n",
      "\u001b[1m55/55\u001b[0m \u001b[32m━━━━━━━━━━━━━━━━━━━━\u001b[0m\u001b[37m\u001b[0m \u001b[1m6s\u001b[0m 99ms/step - accuracy: 0.7461 - loss: 0.6675 - val_accuracy: 0.7136 - val_loss: 0.8251\n",
      "Epoch 34/64\n",
      "\u001b[1m55/55\u001b[0m \u001b[32m━━━━━━━━━━━━━━━━━━━━\u001b[0m\u001b[37m\u001b[0m \u001b[1m6s\u001b[0m 99ms/step - accuracy: 0.7422 - loss: 0.6731 - val_accuracy: 0.7227 - val_loss: 0.7885\n",
      "Epoch 35/64\n",
      "\u001b[1m55/55\u001b[0m \u001b[32m━━━━━━━━━━━━━━━━━━━━\u001b[0m\u001b[37m\u001b[0m \u001b[1m5s\u001b[0m 98ms/step - accuracy: 0.7532 - loss: 0.6409 - val_accuracy: 0.7364 - val_loss: 0.7685\n",
      "Epoch 36/64\n",
      "\u001b[1m55/55\u001b[0m \u001b[32m━━━━━━━━━━━━━━━━━━━━\u001b[0m\u001b[37m\u001b[0m \u001b[1m6s\u001b[0m 101ms/step - accuracy: 0.7538 - loss: 0.6449 - val_accuracy: 0.7068 - val_loss: 0.8172\n",
      "Epoch 37/64\n",
      "\u001b[1m55/55\u001b[0m \u001b[32m━━━━━━━━━━━━━━━━━━━━\u001b[0m\u001b[37m\u001b[0m \u001b[1m5s\u001b[0m 98ms/step - accuracy: 0.7438 - loss: 0.6674 - val_accuracy: 0.7318 - val_loss: 0.7729\n",
      "Epoch 38/64\n",
      "\u001b[1m55/55\u001b[0m \u001b[32m━━━━━━━━━━━━━━━━━━━━\u001b[0m\u001b[37m\u001b[0m \u001b[1m5s\u001b[0m 99ms/step - accuracy: 0.7544 - loss: 0.6242 - val_accuracy: 0.7205 - val_loss: 0.7747\n",
      "Epoch 39/64\n",
      "\u001b[1m55/55\u001b[0m \u001b[32m━━━━━━━━━━━━━━━━━━━━\u001b[0m\u001b[37m\u001b[0m \u001b[1m5s\u001b[0m 98ms/step - accuracy: 0.7454 - loss: 0.6468 - val_accuracy: 0.7295 - val_loss: 0.7618\n",
      "Epoch 40/64\n",
      "\u001b[1m55/55\u001b[0m \u001b[32m━━━━━━━━━━━━━━━━━━━━\u001b[0m\u001b[37m\u001b[0m \u001b[1m6s\u001b[0m 100ms/step - accuracy: 0.7662 - loss: 0.6298 - val_accuracy: 0.7295 - val_loss: 0.7656\n",
      "Epoch 41/64\n",
      "\u001b[1m55/55\u001b[0m \u001b[32m━━━━━━━━━━━━━━━━━━━━\u001b[0m\u001b[37m\u001b[0m \u001b[1m5s\u001b[0m 98ms/step - accuracy: 0.7603 - loss: 0.6412 - val_accuracy: 0.7295 - val_loss: 0.7767\n",
      "Epoch 42/64\n",
      "\u001b[1m55/55\u001b[0m \u001b[32m━━━━━━━━━━━━━━━━━━━━\u001b[0m\u001b[37m\u001b[0m \u001b[1m5s\u001b[0m 98ms/step - accuracy: 0.7618 - loss: 0.6340 - val_accuracy: 0.7227 - val_loss: 0.7966\n",
      "Epoch 43/64\n",
      "\u001b[1m55/55\u001b[0m \u001b[32m━━━━━━━━━━━━━━━━━━━━\u001b[0m\u001b[37m\u001b[0m \u001b[1m5s\u001b[0m 98ms/step - accuracy: 0.7617 - loss: 0.6105 - val_accuracy: 0.7295 - val_loss: 0.7892\n",
      "Epoch 44/64\n",
      "\u001b[1m55/55\u001b[0m \u001b[32m━━━━━━━━━━━━━━━━━━━━\u001b[0m\u001b[37m\u001b[0m \u001b[1m6s\u001b[0m 102ms/step - accuracy: 0.7569 - loss: 0.6038 - val_accuracy: 0.7136 - val_loss: 0.7655\n",
      "Epoch 45/64\n",
      "\u001b[1m55/55\u001b[0m \u001b[32m━━━━━━━━━━━━━━━━━━━━\u001b[0m\u001b[37m\u001b[0m \u001b[1m6s\u001b[0m 101ms/step - accuracy: 0.7554 - loss: 0.6397 - val_accuracy: 0.7250 - val_loss: 0.7903\n",
      "Epoch 46/64\n",
      "\u001b[1m55/55\u001b[0m \u001b[32m━━━━━━━━━━━━━━━━━━━━\u001b[0m\u001b[37m\u001b[0m \u001b[1m6s\u001b[0m 99ms/step - accuracy: 0.7714 - loss: 0.5853 - val_accuracy: 0.7136 - val_loss: 0.7855\n",
      "Epoch 47/64\n",
      "\u001b[1m55/55\u001b[0m \u001b[32m━━━━━━━━━━━━━━━━━━━━\u001b[0m\u001b[37m\u001b[0m \u001b[1m6s\u001b[0m 99ms/step - accuracy: 0.7548 - loss: 0.5930 - val_accuracy: 0.7295 - val_loss: 0.8140\n",
      "Epoch 48/64\n",
      "\u001b[1m55/55\u001b[0m \u001b[32m━━━━━━━━━━━━━━━━━━━━\u001b[0m\u001b[37m\u001b[0m \u001b[1m6s\u001b[0m 101ms/step - accuracy: 0.7669 - loss: 0.6044 - val_accuracy: 0.7318 - val_loss: 0.7909\n",
      "Epoch 49/64\n",
      "\u001b[1m55/55\u001b[0m \u001b[32m━━━━━━━━━━━━━━━━━━━━\u001b[0m\u001b[37m\u001b[0m \u001b[1m5s\u001b[0m 99ms/step - accuracy: 0.7826 - loss: 0.5820 - val_accuracy: 0.7159 - val_loss: 0.8209\n",
      "Epoch 50/64\n",
      "\u001b[1m55/55\u001b[0m \u001b[32m━━━━━━━━━━━━━━━━━━━━\u001b[0m\u001b[37m\u001b[0m \u001b[1m6s\u001b[0m 101ms/step - accuracy: 0.7731 - loss: 0.6154 - val_accuracy: 0.7318 - val_loss: 0.7897\n",
      "Epoch 51/64\n",
      "\u001b[1m55/55\u001b[0m \u001b[32m━━━━━━━━━━━━━━━━━━━━\u001b[0m\u001b[37m\u001b[0m \u001b[1m6s\u001b[0m 101ms/step - accuracy: 0.7689 - loss: 0.6063 - val_accuracy: 0.7318 - val_loss: 0.7835\n",
      "Epoch 52/64\n",
      "\u001b[1m55/55\u001b[0m \u001b[32m━━━━━━━━━━━━━━━━━━━━\u001b[0m\u001b[37m\u001b[0m \u001b[1m6s\u001b[0m 100ms/step - accuracy: 0.7699 - loss: 0.5685 - val_accuracy: 0.7364 - val_loss: 0.8073\n",
      "Epoch 53/64\n",
      "\u001b[1m55/55\u001b[0m \u001b[32m━━━━━━━━━━━━━━━━━━━━\u001b[0m\u001b[37m\u001b[0m \u001b[1m5s\u001b[0m 99ms/step - accuracy: 0.7904 - loss: 0.5444 - val_accuracy: 0.7318 - val_loss: 0.7931\n",
      "Epoch 54/64\n",
      "\u001b[1m55/55\u001b[0m \u001b[32m━━━━━━━━━━━━━━━━━━━━\u001b[0m\u001b[37m\u001b[0m \u001b[1m6s\u001b[0m 99ms/step - accuracy: 0.7898 - loss: 0.5643 - val_accuracy: 0.7341 - val_loss: 0.7626\n",
      "Epoch 55/64\n",
      "\u001b[1m55/55\u001b[0m \u001b[32m━━━━━━━━━━━━━━━━━━━━\u001b[0m\u001b[37m\u001b[0m \u001b[1m5s\u001b[0m 98ms/step - accuracy: 0.7919 - loss: 0.5358 - val_accuracy: 0.7341 - val_loss: 0.8443\n",
      "Epoch 56/64\n",
      "\u001b[1m55/55\u001b[0m \u001b[32m━━━━━━━━━━━━━━━━━━━━\u001b[0m\u001b[37m\u001b[0m \u001b[1m5s\u001b[0m 99ms/step - accuracy: 0.7950 - loss: 0.5297 - val_accuracy: 0.7545 - val_loss: 0.7735\n",
      "Epoch 57/64\n",
      "\u001b[1m55/55\u001b[0m \u001b[32m━━━━━━━━━━━━━━━━━━━━\u001b[0m\u001b[37m\u001b[0m \u001b[1m5s\u001b[0m 99ms/step - accuracy: 0.8098 - loss: 0.5076 - val_accuracy: 0.7295 - val_loss: 0.7920\n",
      "Epoch 58/64\n",
      "\u001b[1m55/55\u001b[0m \u001b[32m━━━━━━━━━━━━━━━━━━━━\u001b[0m\u001b[37m\u001b[0m \u001b[1m6s\u001b[0m 103ms/step - accuracy: 0.7950 - loss: 0.5228 - val_accuracy: 0.7182 - val_loss: 0.8222\n",
      "Epoch 59/64\n",
      "\u001b[1m55/55\u001b[0m \u001b[32m━━━━━━━━━━━━━━━━━━━━\u001b[0m\u001b[37m\u001b[0m \u001b[1m6s\u001b[0m 100ms/step - accuracy: 0.7934 - loss: 0.5065 - val_accuracy: 0.7273 - val_loss: 0.8147\n",
      "Epoch 60/64\n",
      "\u001b[1m55/55\u001b[0m \u001b[32m━━━━━━━━━━━━━━━━━━━━\u001b[0m\u001b[37m\u001b[0m \u001b[1m5s\u001b[0m 98ms/step - accuracy: 0.8139 - loss: 0.4965 - val_accuracy: 0.7159 - val_loss: 0.8261\n",
      "Epoch 61/64\n",
      "\u001b[1m55/55\u001b[0m \u001b[32m━━━━━━━━━━━━━━━━━━━━\u001b[0m\u001b[37m\u001b[0m \u001b[1m6s\u001b[0m 102ms/step - accuracy: 0.8123 - loss: 0.4821 - val_accuracy: 0.7318 - val_loss: 0.8089\n",
      "Epoch 62/64\n",
      "\u001b[1m55/55\u001b[0m \u001b[32m━━━━━━━━━━━━━━━━━━━━\u001b[0m\u001b[37m\u001b[0m \u001b[1m5s\u001b[0m 99ms/step - accuracy: 0.8004 - loss: 0.5225 - val_accuracy: 0.7250 - val_loss: 0.8847\n",
      "Epoch 63/64\n",
      "\u001b[1m55/55\u001b[0m \u001b[32m━━━━━━━━━━━━━━━━━━━━\u001b[0m\u001b[37m\u001b[0m \u001b[1m6s\u001b[0m 100ms/step - accuracy: 0.7999 - loss: 0.5006 - val_accuracy: 0.7091 - val_loss: 0.8565\n",
      "Epoch 64/64\n",
      "\u001b[1m55/55\u001b[0m \u001b[32m━━━━━━━━━━━━━━━━━━━━\u001b[0m\u001b[37m\u001b[0m \u001b[1m6s\u001b[0m 101ms/step - accuracy: 0.8171 - loss: 0.4677 - val_accuracy: 0.7114 - val_loss: 0.7723\n"
     ]
    }
   ],
   "source": [
    "history = model.fit(\n",
    "    datagen.flow(X_train, y_train, batch_size=32),\n",
    "    validation_data=(X_test, y_test),\n",
    "    epochs=64\n",
    ")"
   ]
  },
  {
   "cell_type": "code",
   "execution_count": 16,
   "id": "a3495bfa-97c5-4552-8584-7270a52351e0",
   "metadata": {},
   "outputs": [
    {
     "name": "stdout",
     "output_type": "stream",
     "text": [
      "14/14 - 0s - 27ms/step - accuracy: 0.7114 - loss: 0.7723\n",
      "\n",
      "✅ Test Accuracy: 0.7114\n"
     ]
    }
   ],
   "source": [
    "test_loss, test_accuracy = model.evaluate(X_test, y_test, verbose=2)\n",
    "print(f\"\\n✅ Test Accuracy: {test_accuracy:.4f}\")"
   ]
  }
 ],
 "metadata": {
  "kernelspec": {
   "display_name": "Python [conda env:anaconda3]",
   "language": "python",
   "name": "conda-env-anaconda3-py"
  },
  "language_info": {
   "codemirror_mode": {
    "name": "ipython",
    "version": 3
   },
   "file_extension": ".py",
   "mimetype": "text/x-python",
   "name": "python",
   "nbconvert_exporter": "python",
   "pygments_lexer": "ipython3",
   "version": "3.11.11"
  }
 },
 "nbformat": 4,
 "nbformat_minor": 5
}
